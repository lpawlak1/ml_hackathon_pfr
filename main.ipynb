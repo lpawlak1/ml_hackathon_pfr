{
 "cells": [
  {
   "cell_type": "code",
   "execution_count": 48,
   "id": "d2214fd4-983e-43f1-a1c2-8f4d8b6bea28",
   "metadata": {},
   "outputs": [],
   "source": [
    "import pandas as pd\n",
    "import numpy as np\n",
    "\n",
    "import matplotlib.pylab as plt\n",
    "import seaborn as sns\n",
    "\n",
    "\n",
    "df = pd.read_csv(\"data/PPK_Uczestnicy.csv\", sep=';', error_bad_lines=False)"
   ]
  },
  {
   "cell_type": "code",
   "execution_count": 49,
   "id": "69017ffa-3e4e-4e16-be7f-ddcb7fd5c51a",
   "metadata": {},
   "outputs": [
    {
     "name": "stdout",
     "output_type": "stream",
     "text": [
      "(1793211, 14)\n",
      "Index(['IS_SUSPENDED', 'EMPL_ID', 'SEX', 'NATIONALITY', 'WORK_START',\n",
      "       'WORK_STOP', 'PPK_BANK', 'AGE', 'CREATED_AT', 'NUMERICAL_VALUE',\n",
      "       'RESIGN_DATE', 'HAS_AE', 'HAS_AW', 'HAS_IP'],\n",
      "      dtype='object')\n"
     ]
    }
   ],
   "source": [
    "df.drop(columns = [\"MEMBER_ID\"], inplace = True)\n",
    "\n",
    "print(df.shape)\n",
    "print(df.columns)"
   ]
  },
  {
   "cell_type": "code",
   "execution_count": 50,
   "id": "f7a4f999-8624-4515-b463-b2d5d47123b6",
   "metadata": {},
   "outputs": [
    {
     "data": {
      "text/html": [
       "<div>\n",
       "<style scoped>\n",
       "    .dataframe tbody tr th:only-of-type {\n",
       "        vertical-align: middle;\n",
       "    }\n",
       "\n",
       "    .dataframe tbody tr th {\n",
       "        vertical-align: top;\n",
       "    }\n",
       "\n",
       "    .dataframe thead th {\n",
       "        text-align: right;\n",
       "    }\n",
       "</style>\n",
       "<table border=\"1\" class=\"dataframe\">\n",
       "  <thead>\n",
       "    <tr style=\"text-align: right;\">\n",
       "      <th></th>\n",
       "      <th>IS_SUSPENDED</th>\n",
       "      <th>EMPL_ID</th>\n",
       "      <th>NATIONALITY</th>\n",
       "      <th>PPK_BANK</th>\n",
       "      <th>HAS_AE</th>\n",
       "      <th>HAS_AW</th>\n",
       "      <th>HAS_IP</th>\n",
       "    </tr>\n",
       "  </thead>\n",
       "  <tbody>\n",
       "    <tr>\n",
       "      <th>count</th>\n",
       "      <td>1793211.000000</td>\n",
       "      <td>1793211.000000</td>\n",
       "      <td>1793211.000000</td>\n",
       "      <td>1793211.000000</td>\n",
       "      <td>1793211.000000</td>\n",
       "      <td>1793211.000000</td>\n",
       "      <td>1793211.000000</td>\n",
       "    </tr>\n",
       "    <tr>\n",
       "      <th>mean</th>\n",
       "      <td>0.174361</td>\n",
       "      <td>155294.849723</td>\n",
       "      <td>34.353237</td>\n",
       "      <td>12.247279</td>\n",
       "      <td>0.019155</td>\n",
       "      <td>0.009640</td>\n",
       "      <td>0.521412</td>\n",
       "    </tr>\n",
       "    <tr>\n",
       "      <th>std</th>\n",
       "      <td>0.379420</td>\n",
       "      <td>81511.631956</td>\n",
       "      <td>18.249374</td>\n",
       "      <td>4.677958</td>\n",
       "      <td>0.137070</td>\n",
       "      <td>0.097708</td>\n",
       "      <td>0.499541</td>\n",
       "    </tr>\n",
       "    <tr>\n",
       "      <th>min</th>\n",
       "      <td>0.000000</td>\n",
       "      <td>3.000000</td>\n",
       "      <td>1.000000</td>\n",
       "      <td>1.000000</td>\n",
       "      <td>0.000000</td>\n",
       "      <td>0.000000</td>\n",
       "      <td>0.000000</td>\n",
       "    </tr>\n",
       "    <tr>\n",
       "      <th>25%</th>\n",
       "      <td>0.000000</td>\n",
       "      <td>90405.000000</td>\n",
       "      <td>31.000000</td>\n",
       "      <td>10.000000</td>\n",
       "      <td>0.000000</td>\n",
       "      <td>0.000000</td>\n",
       "      <td>0.000000</td>\n",
       "    </tr>\n",
       "    <tr>\n",
       "      <th>50%</th>\n",
       "      <td>0.000000</td>\n",
       "      <td>163207.000000</td>\n",
       "      <td>31.000000</td>\n",
       "      <td>13.000000</td>\n",
       "      <td>0.000000</td>\n",
       "      <td>0.000000</td>\n",
       "      <td>1.000000</td>\n",
       "    </tr>\n",
       "    <tr>\n",
       "      <th>75%</th>\n",
       "      <td>0.000000</td>\n",
       "      <td>239173.000000</td>\n",
       "      <td>31.000000</td>\n",
       "      <td>15.000000</td>\n",
       "      <td>0.000000</td>\n",
       "      <td>0.000000</td>\n",
       "      <td>1.000000</td>\n",
       "    </tr>\n",
       "    <tr>\n",
       "      <th>max</th>\n",
       "      <td>1.000000</td>\n",
       "      <td>261079.000000</td>\n",
       "      <td>200.000000</td>\n",
       "      <td>20.000000</td>\n",
       "      <td>1.000000</td>\n",
       "      <td>1.000000</td>\n",
       "      <td>1.000000</td>\n",
       "    </tr>\n",
       "  </tbody>\n",
       "</table>\n",
       "</div>"
      ],
      "text/plain": [
       "         IS_SUSPENDED         EMPL_ID     NATIONALITY        PPK_BANK  \\\n",
       "count  1793211.000000  1793211.000000  1793211.000000  1793211.000000   \n",
       "mean         0.174361   155294.849723       34.353237       12.247279   \n",
       "std          0.379420    81511.631956       18.249374        4.677958   \n",
       "min          0.000000        3.000000        1.000000        1.000000   \n",
       "25%          0.000000    90405.000000       31.000000       10.000000   \n",
       "50%          0.000000   163207.000000       31.000000       13.000000   \n",
       "75%          0.000000   239173.000000       31.000000       15.000000   \n",
       "max          1.000000   261079.000000      200.000000       20.000000   \n",
       "\n",
       "               HAS_AE          HAS_AW          HAS_IP  \n",
       "count  1793211.000000  1793211.000000  1793211.000000  \n",
       "mean         0.019155        0.009640        0.521412  \n",
       "std          0.137070        0.097708        0.499541  \n",
       "min          0.000000        0.000000        0.000000  \n",
       "25%          0.000000        0.000000        0.000000  \n",
       "50%          0.000000        0.000000        1.000000  \n",
       "75%          0.000000        0.000000        1.000000  \n",
       "max          1.000000        1.000000        1.000000  "
      ]
     },
     "execution_count": 50,
     "metadata": {},
     "output_type": "execute_result"
    }
   ],
   "source": [
    "df.describe().apply(lambda s: s.apply(lambda x: format(x, 'f')))\n"
   ]
  },
  {
   "cell_type": "code",
   "execution_count": null,
   "id": "ea6a7d99-b47f-4996-b1ae-e0a4660ea533",
   "metadata": {},
   "outputs": [],
   "source": [
    "for col in df.columns:\n",
    "    print( col, df[col].unique()) "
   ]
  },
  {
   "cell_type": "code",
   "execution_count": 58,
   "id": "0289990f-76a3-468b-82a7-b094385530ab",
   "metadata": {
    "tags": []
   },
   "outputs": [
    {
     "name": "stdout",
     "output_type": "stream",
     "text": [
      "31     1715422\n",
      "137      43500\n",
      "63       15991\n",
      "3         3969\n",
      "38        1370\n",
      "        ...   \n",
      "171          1\n",
      "77           1\n",
      "139          1\n",
      "58           1\n",
      "72           1\n",
      "Name: NATIONALITY, Length: 187, dtype: int64\n"
     ]
    }
   ],
   "source": [
    "nat = df[\"NATIONALITY\"].value_counts() "
   ]
  },
  {
   "cell_type": "code",
   "execution_count": null,
   "id": "4fb2854f-cf3c-415e-b41d-6b440d6812f4",
   "metadata": {},
   "outputs": [],
   "source": []
  }
 ],
 "metadata": {
  "kernelspec": {
   "display_name": "Python 3",
   "language": "python",
   "name": "python3"
  },
  "language_info": {
   "codemirror_mode": {
    "name": "ipython",
    "version": 3
   },
   "file_extension": ".py",
   "mimetype": "text/x-python",
   "name": "python",
   "nbconvert_exporter": "python",
   "pygments_lexer": "ipython3",
   "version": "3.8.5"
  }
 },
 "nbformat": 4,
 "nbformat_minor": 5
}
