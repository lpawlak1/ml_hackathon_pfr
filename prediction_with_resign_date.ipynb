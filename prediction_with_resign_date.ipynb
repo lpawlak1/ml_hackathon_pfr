{
 "cells": [
  {
   "cell_type": "code",
   "execution_count": 16,
   "metadata": {},
   "outputs": [],
   "source": [
    "# Importy bibliotek\n",
    "import pandas as pd\n",
    "import numpy as np\n",
    "from datetime import datetime\n",
    "\n",
    "import matplotlib.pylab as plt\n",
    "from sklearn.model_selection import train_test_split\n",
    "from sklearn.metrics import classification_report,confusion_matrix\n",
    "import xgboost as xgb\n",
    "from sklearn.cluster import KMeans\n"
   ]
  },
  {
   "cell_type": "code",
   "execution_count": 17,
   "metadata": {},
   "outputs": [],
   "source": [
    "# Pliki CSV umieszczone w folderze data\n",
    "uczestnicy = pd.read_csv('data/PPK_Uczestnicy.csv', sep=';')\n",
    "pracodawcy = pd.read_csv('data/PPK_Pracodawcy.csv',sep=';')\n",
    "\n",
    "# Mergowanie dwóch csv\n",
    "df = pd.merge(\n",
    "    uczestnicy,\n",
    "    pracodawcy,\n",
    "    how='left',\n",
    "    left_on='EMPL_ID',\n",
    "    right_on='ID'\n",
    ")\n"
   ]
  },
  {
   "cell_type": "code",
   "execution_count": 18,
   "metadata": {},
   "outputs": [],
   "source": [
    "#Age to int\n",
    "\n",
    "def to_int(age):\n",
    "    age = age[:age.find(\",\")]\n",
    "    return int(age)\n",
    "\n",
    "df[\"AGE\"] = df[\"AGE\"].apply(to_int)"
   ]
  },
  {
   "cell_type": "code",
   "execution_count": 19,
   "metadata": {},
   "outputs": [],
   "source": [
    "# Dropowanie niepotrzebnych kolumn\n",
    "df.drop(columns=['MEMBER_ID','EMPL_ID', 'WORK_START', 'WORK_STOP', 'LOGICAL_FACTOR_1','LOGICAL_FACTOR_2','ID','PKD_CODE','PPK_BANK','NUMERICAL_VALUE'], inplace=True)"
   ]
  },
  {
   "cell_type": "code",
   "execution_count": 20,
   "metadata": {},
   "outputs": [],
   "source": [
    "# Grouping other nationalities into one category '0'\n",
    "unique_nat = df['NATIONALITY'].unique()\n",
    "for val in unique_nat:\n",
    "    suma = ( df['NATIONALITY'].values == val ).sum()\n",
    "    if suma < 5000:\n",
    "        df.loc[df.NATIONALITY == val, 'NATIONALITY'] = 0       "
   ]
  },
  {
   "cell_type": "code",
   "execution_count": 21,
   "metadata": {},
   "outputs": [],
   "source": [
    "# zamiana danych kategorycznych na dummy variables - tworzymy nową kolumnę na każdy możliwy output kolumny, porównaj poprzednią i następną komórkę\n",
    "df = pd.get_dummies(df, columns = ['SEX', 'COMPANY_SIZE', 'COMPANY_TYPE', 'VOIVODESHIP', 'NATIONALITY','PPK_STAGE'], \n",
    "                         prefix = ['SEX', 'COMPANY_SIZE', 'COMPANY_TYPE', 'VOIVODESHIP', 'NATIONALITY','PPK_STAGE'])"
   ]
  },
  {
   "cell_type": "code",
   "execution_count": 22,
   "metadata": {
    "scrolled": true
   },
   "outputs": [],
   "source": [
    "# \n",
    "def find_period(data):\n",
    "    start, stop = data\n",
    "    if type(stop) is float:\n",
    "        stop = datetime.now().strftime(\"%Y-%m-%d\")\n",
    "    \n",
    "    start_year, start_month, start_day = map(int, start.split('-'))\n",
    "    stop_year, stop_month, stop_day = map(int, stop.split('-'))\n",
    "    \n",
    "    days = (stop_year - start_year)*365\n",
    "    days += (stop_month - start_month)*30 if stop_month > start_month else (start_month - stop_month)*30\n",
    "    days += stop_day - start_day if stop_day > start_day else start_day - stop_day\n",
    "    \n",
    "    return days\n",
    "\n",
    "\n",
    "df['DURATION'] = list(zip(df['SIGN_DATE'], df['RESIGN_DATE']))\n",
    "\n",
    "df['DURATION'] = df['DURATION'].apply(find_period) \n",
    "\n",
    "df['RESIGNED'] = ~df['RESIGN_DATE'].isna()\n",
    "\n",
    "df.drop(columns = ['SIGN_DATE', 'RESIGN_DATE'], inplace=True)\n",
    "# z tym nie wiem co mam zrobic, mozna wyjebac albo cos mądrego zrobic\n",
    "df.drop(columns=[\"CREATED_AT\", \"UOZ_START_DATE\", \"UOP_SIGN_DATE\", 'REGION_CODE'], inplace=True)"
   ]
  },
  {
   "cell_type": "markdown",
   "metadata": {},
   "source": [
    "### wyrzucenie paru kolumn co nie pasują narazie i TEST/TRAIN split"
   ]
  },
  {
   "cell_type": "code",
   "execution_count": 23,
   "metadata": {},
   "outputs": [],
   "source": [
    "# ta kolumna to w ogole jest 100% skorelowana z targetem, pozdro\n",
    "df.drop(columns=[\"RESIGNED\"], inplace = True)\n",
    "\n",
    "# to tez jest podejrzanie skorelowane\n",
    "# df.drop(columns=[\"DURATION\"], inplace = True)"
   ]
  },
  {
   "cell_type": "code",
   "execution_count": 24,
   "metadata": {},
   "outputs": [
    {
     "data": {
      "text/plain": [
       "Index(['IS_SUSPENDED', 'AGE', 'HAS_AE', 'HAS_AW', 'HAS_IP', 'SEX_K', 'SEX_M',\n",
       "       'SEX_N', 'COMPANY_SIZE_A', 'COMPANY_SIZE_B', 'COMPANY_SIZE_C',\n",
       "       'COMPANY_SIZE_D', 'COMPANY_SIZE_E', 'COMPANY_SIZE_F', 'COMPANY_SIZE_G',\n",
       "       'COMPANY_SIZE_H', 'COMPANY_TYPE_1.0', 'COMPANY_TYPE_2.0',\n",
       "       'COMPANY_TYPE_3.0', 'COMPANY_TYPE_4.0', 'COMPANY_TYPE_5.0',\n",
       "       'COMPANY_TYPE_6.0', 'COMPANY_TYPE_7.0', 'COMPANY_TYPE_9.0',\n",
       "       'COMPANY_TYPE_10.0', 'COMPANY_TYPE_11.0', 'COMPANY_TYPE_12.0',\n",
       "       'COMPANY_TYPE_13.0', 'COMPANY_TYPE_14.0', 'COMPANY_TYPE_16.0',\n",
       "       'COMPANY_TYPE_17.0', 'COMPANY_TYPE_18.0', 'COMPANY_TYPE_19.0',\n",
       "       'COMPANY_TYPE_20.0', 'COMPANY_TYPE_21.0', 'COMPANY_TYPE_22.0',\n",
       "       'COMPANY_TYPE_23.0', 'COMPANY_TYPE_24.0', 'COMPANY_TYPE_25.0',\n",
       "       'VOIVODESHIP_DOLNOŚLĄSKIE', 'VOIVODESHIP_KUJAWSKO-POMORSKIE',\n",
       "       'VOIVODESHIP_LUBELSKIE', 'VOIVODESHIP_LUBUSKIE',\n",
       "       'VOIVODESHIP_MAZOWIECKIE', 'VOIVODESHIP_MAŁOPOLSKIE',\n",
       "       'VOIVODESHIP_OPOLSKIE', 'VOIVODESHIP_PODKARPACKIE',\n",
       "       'VOIVODESHIP_PODLASKIE', 'VOIVODESHIP_POMORSKIE',\n",
       "       'VOIVODESHIP_WARMIŃSKO-MAZURSKIE', 'VOIVODESHIP_WIELKOPOLSKIE',\n",
       "       'VOIVODESHIP_ZACHODNIOPOMORSKIE', 'VOIVODESHIP_ŁÓDZKIE',\n",
       "       'VOIVODESHIP_ŚLĄSKIE', 'VOIVODESHIP_ŚWIĘTOKRZYSKIE', 'NATIONALITY_0',\n",
       "       'NATIONALITY_114', 'NATIONALITY_136', 'NATIONALITY_187', 'PPK_STAGE_1',\n",
       "       'PPK_STAGE_2', 'PPK_STAGE_3', 'PPK_STAGE_4', 'DURATION'],\n",
       "      dtype='object')"
      ]
     },
     "execution_count": 24,
     "metadata": {},
     "output_type": "execute_result"
    }
   ],
   "source": [
    "df.columns\n"
   ]
  },
  {
   "cell_type": "code",
   "execution_count": 25,
   "metadata": {},
   "outputs": [
    {
     "data": {
      "image/png": "[encoded data removed]",
      "text/plain": [
       "<Figure size 432x288 with 1 Axes>"
      ]
     },
     "metadata": {},
     "output_type": "display_data"
    },
    {
     "ename": "NameError",
     "evalue": "name 'KneeLocator' is not defined",
     "output_type": "error",
     "traceback": [
      "\u001b[0;31m---------------------------------------------------------------------------\u001b[0m",
      "\u001b[0;31mNameError\u001b[0m                                 Traceback (most recent call last)",
      "\u001b[0;32m<ipython-input-25-d745cd263783>\u001b[0m in \u001b[0;36m<module>\u001b[0;34m\u001b[0m\n\u001b[1;32m     29\u001b[0m \u001b[0;34m\u001b[0m\u001b[0m\n\u001b[1;32m     30\u001b[0m \u001b[0;34m\u001b[0m\u001b[0m\n\u001b[0;32m---> 31\u001b[0;31m \u001b[0mkl\u001b[0m \u001b[0;34m=\u001b[0m \u001b[0mKneeLocator\u001b[0m\u001b[0;34m(\u001b[0m\u001b[0mrange\u001b[0m\u001b[0;34m(\u001b[0m\u001b[0;36m1\u001b[0m\u001b[0;34m,\u001b[0m \u001b[0;36m11\u001b[0m\u001b[0;34m)\u001b[0m\u001b[0;34m,\u001b[0m \u001b[0msse\u001b[0m\u001b[0;34m,\u001b[0m \u001b[0mcurve\u001b[0m\u001b[0;34m=\u001b[0m\u001b[0;34m\"convex\"\u001b[0m\u001b[0;34m,\u001b[0m \u001b[0mdirection\u001b[0m\u001b[0;34m=\u001b[0m\u001b[0;34m\"decreasing\"\u001b[0m\u001b[0;34m)\u001b[0m\u001b[0;34m\u001b[0m\u001b[0;34m\u001b[0m\u001b[0m\n\u001b[0m\u001b[1;32m     32\u001b[0m \u001b[0mn_of_clusters\u001b[0m \u001b[0;34m=\u001b[0m \u001b[0mkl\u001b[0m\u001b[0;34m.\u001b[0m\u001b[0melbow\u001b[0m\u001b[0;34m\u001b[0m\u001b[0;34m\u001b[0m\u001b[0m\n\u001b[1;32m     33\u001b[0m \u001b[0;34m\u001b[0m\u001b[0m\n",
      "\u001b[0;31mNameError\u001b[0m: name 'KneeLocator' is not defined"
     ]
    }
   ],
   "source": [
    "# Klasteryzacja wieku\n",
    "\n",
    "dataset = df[['IS_SUSPENDED', 'AGE']]\n",
    "# dataset = dataset.groupby('AGE').mean()\n",
    "# dataset.reset_index(inplace=True)\n",
    "\n",
    "scaled_dataset = dataset.values\n",
    "\n",
    "kmeans_kwargs = {\n",
    "        \"init\": \"random\",\n",
    "        \"n_init\": 10,\n",
    "        \"max_iter\": 300,\n",
    "        \"random_state\": 42,\n",
    "    }\n",
    "   \n",
    "# A list holds the SSE values for each k\n",
    "sse = []\n",
    "for k in range(1, 11):\n",
    "    kmeans = KMeans(n_clusters=k, **kmeans_kwargs)\n",
    "    kmeans.fit(scaled_dataset)\n",
    "    sse.append(kmeans.inertia_)\n",
    "\n",
    "plt.style.use('fivethirtyeight')\n",
    "plt.plot(range(1, 11), sse)\n",
    "plt.xticks(range(1, 11))\n",
    "plt.xlabel(\"n_of_clusters\")\n",
    "plt.ylabel(\"SSE\")\n",
    "plt.show()\n",
    "\n",
    "\n",
    "kl = KneeLocator(range(1, 11), sse, curve=\"convex\", direction=\"decreasing\")\n",
    "n_of_clusters = kl.elbow\n",
    "\n",
    "kmeans = KMeans(\n",
    "    init='random',\n",
    "    n_clusters = n_of_clusters,\n",
    "    n_init=50,\n",
    "    max_iter=500,\n",
    "    random_state=42\n",
    "    )\n",
    "\n",
    "kmeans.fit(scaled_dataset)\n",
    "\n",
    "df['AGE_CL'] = kmeans.predict(df[[\"IS_SUSPENDED\", \"AGE\"]])\n",
    "\n",
    "df.drop(columns=[\"AGE\"], inplace=True)"
   ]
  },
  {
   "cell_type": "code",
   "execution_count": null,
   "metadata": {},
   "outputs": [],
   "source": [
    "#POSITIVE = SUSPENDED jak cos\n",
    "\n",
    "X_train, X_test, y_train, y_test = train_test_split(df[df.columns[1:]], df[\"IS_SUSPENDED\"], stratify=df[\"IS_SUSPENDED\"], test_size=0.10, random_state=56)\n",
    "#building the model\n",
    "xgb_model = xgb.XGBClassifier(max_depth=5, learning_rate=0.08, objective= 'binary:logistic',n_jobs=-1).fit(X_train, y_train)\n",
    "\n",
    "print('Accuracy of XGB classifier on training set: {:.2f}'\n",
    "       .format(xgb_model.score(X_train, y_train)))\n",
    "print('Accuracy of XGB classifier on test set: {:.2f}'\n",
    "       .format(xgb_model.score(X_test[X_train.columns], y_test)))"
   ]
  },
  {
   "cell_type": "code",
   "execution_count": null,
   "metadata": {},
   "outputs": [],
   "source": [
    "y_pred = xgb_model.predict(X_test)"
   ]
  },
  {
   "cell_type": "code",
   "execution_count": null,
   "metadata": {},
   "outputs": [],
   "source": [
    "print(classification_report(y_test, y_pred))"
   ]
  },
  {
   "cell_type": "code",
   "execution_count": null,
   "metadata": {},
   "outputs": [],
   "source": [
    "from xgboost import plot_importance\n",
    "fig, ax = plt.subplots(figsize=(10,8))\n",
    "plot_importance(xgb_model, ax=ax)"
   ]
  },
  {
   "cell_type": "code",
   "execution_count": null,
   "metadata": {},
   "outputs": [],
   "source": [
    "df['proba'] = xgb_model.predict_proba(df[X_train.columns])[:,1]\n",
    "df[['AGE','proba']].head(50)"
   ]
  },
  {
   "cell_type": "code",
   "execution_count": null,
   "metadata": {},
   "outputs": [],
   "source": [
    "# dane testowe\n",
    "testowe = pd.read_csv('data/PPK_Uczestnicy_TEST.csv',sep=';')"
   ]
  },
  {
   "cell_type": "code",
   "execution_count": null,
   "metadata": {},
   "outputs": [],
   "source": [
    "testowe.columns"
   ]
  },
  {
   "cell_type": "code",
   "execution_count": null,
   "metadata": {},
   "outputs": [],
   "source": [
    "testowe[\"RESIGN_DATE\"].value_counts()"
   ]
  },
  {
   "cell_type": "code",
   "execution_count": null,
   "metadata": {},
   "outputs": [],
   "source": [
    "testowe[\"RESIGN_DATE\"].isna().sum()"
   ]
  },
  {
   "cell_type": "code",
   "execution_count": null,
   "metadata": {},
   "outputs": [],
   "source": []
  }
 ],
 "metadata": {
  "kernelspec": {
   "display_name": "Python 3",
   "language": "python",
   "name": "python3"
  },
  "language_info": {
   "codemirror_mode": {
    "name": "ipython",
    "version": 3
   },
   "file_extension": ".py",
   "mimetype": "text/x-python",
   "name": "python",
   "nbconvert_exporter": "python",
   "pygments_lexer": "ipython3",
   "version": "3.8.5"
  }
 },
 "nbformat": 4,
 "nbformat_minor": 4
}
