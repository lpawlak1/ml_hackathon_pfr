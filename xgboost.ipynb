{
 "cells": [
  {
   "cell_type": "code",
   "execution_count": null,
   "metadata": {},
   "outputs": [],
   "source": [
    "# Importy bibliotek\n",
    "import pandas as pd\n",
    "import numpy as np\n",
    "from datetime import datetime\n",
    "\n",
    "import matplotlib.pylab as plt\n",
    "from sklearn.model_selection import train_test_split\n",
    "from sklearn.metrics import classification_report,confusion_matrix\n",
    "import xgboost as xgb"
   ]
  },
  {
   "cell_type": "markdown",
   "metadata": {},
   "source": [
    "# Pliki CSV umieszczone w folderze data\n",
    "uczestnicy = pd.read_csv('data/PPK_Uczestnicy.csv', sep=';')\n",
    "pracodawcy = pd.read_csv('data/PPK_Pracodawcy.csv',sep=';')\n",
    "\n",
    "# Mergowanie dwóch csv\n",
    "df = pd.merge(\n",
    "    uczestnicy,\n",
    "    pracodawcy,\n",
    "    how='left',\n",
    "    left_on='EMPL_ID',\n",
    "    right_on='ID'\n",
    ")\n"
   ]
  },
  {
   "cell_type": "code",
   "execution_count": null,
   "metadata": {},
   "outputs": [],
   "source": [
    "#Age to int\n",
    "\n",
    "def to_int(age):\n",
    "    age = age[:age.find(\",\")]\n",
    "    return int(age)\n",
    "\n",
    "df[\"AGE\"] = df[\"AGE\"].apply(to_int)"
   ]
  },
  {
   "cell_type": "code",
   "execution_count": null,
   "metadata": {},
   "outputs": [],
   "source": [
    "# Dropowanie niepotrzebnych kolumn\n",
    "df.drop(columns=['MEMBER_ID','EMPL_ID', 'WORK_START', 'WORK_STOP', 'LOGICAL_FACTOR_1','LOGICAL_FACTOR_2','ID','PKD_CODE','PPK_BANK','NUMERICAL_VALUE'], inplace=True)"
   ]
  },
  {
   "cell_type": "code",
   "execution_count": null,
   "metadata": {},
   "outputs": [],
   "source": [
    "# Grouping other nationalities into one category '0'\n",
    "unique_nat = df['NATIONALITY'].unique()\n",
    "for val in unique_nat:\n",
    "    suma = ( df['NATIONALITY'].values == val ).sum()\n",
    "    if suma < 5000:\n",
    "        df.loc[df.NATIONALITY == val, 'NATIONALITY'] = 0       "
   ]
  },
  {
   "cell_type": "code",
   "execution_count": null,
   "metadata": {},
   "outputs": [],
   "source": [
    "# zamiana danych kategorycznych na dummy variables - tworzymy nową kolumnę na każdy możliwy output kolumny, porównaj poprzednią i następną komórkę\n",
    "df = pd.get_dummies(df, columns = ['SEX', 'COMPANY_SIZE', 'COMPANY_TYPE', 'VOIVODESHIP', 'NATIONALITY','PPK_STAGE'], \n",
    "                         prefix = ['SEX', 'COMPANY_SIZE', 'COMPANY_TYPE', 'VOIVODESHIP', 'NATIONALITY','PPK_STAGE'])"
   ]
  },
  {
   "cell_type": "code",
   "execution_count": null,
   "metadata": {
    "scrolled": true
   },
   "outputs": [],
   "source": [
    "# \n",
    "def find_period(data):\n",
    "    start, stop = data\n",
    "    if type(stop) is float:\n",
    "        stop = datetime.now().strftime(\"%Y-%m-%d\")\n",
    "    \n",
    "    start_year, start_month, start_day = map(int, start.split('-'))\n",
    "    stop_year, stop_month, stop_day = map(int, stop.split('-'))\n",
    "    \n",
    "    days = (stop_year - start_year)*365\n",
    "    days += (stop_month - start_month)*30 if stop_month > start_month else (start_month - stop_month)*30\n",
    "    days += stop_day - start_day if stop_day > start_day else start_day - stop_day\n",
    "    \n",
    "    return days\n",
    "\n",
    "\n",
    "df['DURATION'] = list(zip(df['CREATED_AT'], df['RESIGN_DATE']))\n",
    "\n",
    "df['DURATION'] = df['DURATION'].apply(find_period) \n",
    "\n",
    "df['RESIGNED'] = ~df['RESIGN_DATE'].isna()\n",
    "\n",
    "df.drop(columns = ['SIGN_DATE', 'RESIGN_DATE'], inplace=True)\n",
    "# z tym nie wiem co mam zrobic, mozna wyjebac albo cos mądrego zrobic\n",
    "df.drop(columns=[\"CREATED_AT\", \"UOZ_START_DATE\", \"UOP_SIGN_DATE\", 'REGION_CODE'], inplace=True)"
   ]
  },
  {
   "cell_type": "markdown",
   "metadata": {},
   "source": [
    "### wyrzucenie paru kolumn co nie pasują narazie i TEST/TRAIN split"
   ]
  },
  {
   "cell_type": "code",
   "execution_count": null,
   "metadata": {},
   "outputs": [],
   "source": [
    "# ta kolumna to w ogole jest 100% skorelowana z targetem, pozdro\n",
    "df.drop(columns=[\"RESIGNED\"], inplace = True)\n",
    "\n",
    "# to tez jest podejrzanie skorelowane\n",
    "# df.drop(columns=[\"DURATION\"], inplace = True)"
   ]
  },
  {
   "cell_type": "code",
   "execution_count": null,
   "metadata": {},
   "outputs": [],
   "source": [
    "df.columns\n"
   ]
  },
  {
   "cell_type": "code",
   "execution_count": null,
   "metadata": {},
   "outputs": [],
   "source": [
    "#POSITIVE = SUSPENDED jak cos\n",
    "\n",
    "X_train, X_test, y_train, y_test = train_test_split(df[df.columns[1:]], df[\"IS_SUSPENDED\"], stratify=df[\"IS_SUSPENDED\"], test_size=0.10, random_state=56)\n",
    "#building the model\n",
    "xgb_model = xgb.XGBClassifier(max_depth=5, learning_rate=0.08, objective= 'binary:logistic',n_jobs=-1).fit(X_train, y_train)\n",
    "\n",
    "print('Accuracy of XGB classifier on training set: {:.2f}'\n",
    "       .format(xgb_model.score(X_train, y_train)))\n",
    "print('Accuracy of XGB classifier on test set: {:.2f}'\n",
    "       .format(xgb_model.score(X_test[X_train.columns], y_test)))"
   ]
  },
  {
   "cell_type": "code",
   "execution_count": null,
   "metadata": {},
   "outputs": [],
   "source": [
    "y_pred = xgb_model.predict(X_test)"
   ]
  },
  {
   "cell_type": "code",
   "execution_count": null,
   "metadata": {},
   "outputs": [],
   "source": [
    "print(classification_report(y_test, y_pred))"
   ]
  },
  {
   "cell_type": "code",
   "execution_count": null,
   "metadata": {},
   "outputs": [],
   "source": [
    "from xgboost import plot_importance\n",
    "fig, ax = plt.subplots(figsize=(10,8))\n",
    "plot_importance(xgb_model, ax=ax)"
   ]
  },
  {
   "cell_type": "code",
   "execution_count": null,
   "metadata": {},
   "outputs": [],
   "source": [
    "df['proba'] = xgb_model.predict_proba(df[X_train.columns])[:,1]\n",
    "df[['AGE','proba']].head(50)"
   ]
  },
  {
   "cell_type": "code",
   "execution_count": null,
   "metadata": {},
   "outputs": [],
   "source": [
    "# dane testowe\n",
    "testowe = pd.read_csv('data/PPK_Uczestnicy_TEST.csv',sep=';')"
   ]
  },
  {
   "cell_type": "code",
   "execution_count": null,
   "metadata": {},
   "outputs": [],
   "source": [
    "testowe.columns"
   ]
  },
  {
   "cell_type": "code",
   "execution_count": null,
   "metadata": {},
   "outputs": [],
   "source": [
    "testowe[\"RESIGN_DATE\"].value_counts()"
   ]
  },
  {
   "cell_type": "code",
   "execution_count": null,
   "metadata": {},
   "outputs": [],
   "source": [
    "testowe[\"RESIGN_DATE\"].isna().sum()"
   ]
  },
  {
   "cell_type": "code",
   "execution_count": null,
   "metadata": {},
   "outputs": [],
   "source": []
  }
 ],
 "metadata": {
  "kernelspec": {
   "display_name": "Python 3",
   "language": "python",
   "name": "python3"
  },
  "language_info": {
   "codemirror_mode": {
    "name": "ipython",
    "version": 3
   },
   "file_extension": ".py",
   "mimetype": "text/x-python",
   "name": "python",
   "nbconvert_exporter": "python",
   "pygments_lexer": "ipython3",
   "version": "3.8.5"
  }
 },
 "nbformat": 4,
 "nbformat_minor": 4
}
