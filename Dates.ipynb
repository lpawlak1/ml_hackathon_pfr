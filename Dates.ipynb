{
 "cells": [
  {
   "cell_type": "code",
   "execution_count": null,
   "metadata": {},
   "outputs": [],
   "source": [
    "from datetime import datetime"
   ]
  },
  {
   "cell_type": "code",
   "execution_count": null,
   "metadata": {},
   "outputs": [],
   "source": [
    "# Importy bibliotek\n",
    "import pandas as pd\n",
    "import numpy as np\n",
    "\n",
    "import matplotlib.pylab as plt\n",
    "import seaborn as sns\n",
    "\n",
    "# Pliki CSV umieszczone w folderze data\n",
    "uczestnicy = pd.read_csv('data/PPK_Uczestnicy.csv', sep=';')\n",
    "pracodawcy = pd.read_csv('data/PPK_Pracodawcy.csv',sep=';')\n",
    "\n",
    "# Mergowanie dwóch csv\n",
    "df = pd.merge(\n",
    "    uczestnicy,\n",
    "    pracodawcy,\n",
    "    how='left',\n",
    "    left_on='EMPL_ID',\n",
    "    right_on='ID'\n",
    ")\n",
    "\n",
    "# Dropowanie niepotrzebnych kolumn\n",
    "df.drop(columns=['MEMBER_ID','LOGICAL_FACTOR_1','LOGICAL_FACTOR_2','ID','PKD_CODE','PPK_BANK','NUMERICAL_VALUE'],inplace=True)\n",
    "# Grouping other nationalities into one category '0'\n",
    "unique_nat = df['NATIONALITY'].unique()\n",
    "for val in unique_nat:\n",
    "    suma = ( df['NATIONALITY'].values == val ).sum()\n",
    "    if suma < 500:\n",
    "        df.loc[df.NATIONALITY == val, 'NATIONALITY'] = 0\n",
    "# zamian danych kategorycznych na dummy variables - tworzymy nową kolumnę na każdy możliwy output kolumny, porównaj poprzednią i następną komórkę\n",
    "df = pd.get_dummies(df, columns = ['SEX', 'COMPANY_SIZE', 'COMPANY_TYPE', 'VOIVODESHIP'], prefix = ['SEX', 'COMPANY_SIZE', 'COMPANY_TYPE', 'VOIVODESHIP'])"
   ]
  },
  {
   "cell_type": "code",
   "execution_count": null,
   "metadata": {},
   "outputs": [],
   "source": [
    "# najwcześniejsza data z \"CREATED_AT\"\n",
    "start_date = df.iloc[:,6].min()\n",
    "# nie przydała się ale zostawię, może sie przydać"
   ]
  },
  {
   "cell_type": "code",
   "execution_count": null,
   "metadata": {},
   "outputs": [],
   "source": [
    "def find_period(data):\n",
    "    start, stop = data\n",
    "    if type(stop) is float:\n",
    "        stop = datetime.now().strftime(\"%Y-%m-%d\")\n",
    "    \n",
    "    start_year, start_month, start_day = map(int, start.split('-'))\n",
    "    stop_year, stop_month, stop_day = map(int, stop.split('-'))\n",
    "    \n",
    "    days = (stop_year - start_year)*365\n",
    "    days += (stop_month - start_month)*30 if stop_month > start_month else (start_month - stop_month)*30\n",
    "    days += stop_day - start_day if stop_day > start_day else start_day - stop_day\n",
    "    \n",
    "    return days\n",
    "\n",
    "\n",
    "df['DURATION'] = list(zip(df['CREATED_AT'], df['RESIGN_DATE']))\n",
    "\n",
    "df['DURATION'] = df['DURATION'].apply(find_period)  #.astype('int32')   chciałem zmienić na inta ale nie działa "
   ]
  },
  {
   "cell_type": "code",
   "execution_count": null,
   "metadata": {},
   "outputs": [],
   "source": [
    "# df['DURATION'].describe()"
   ]
  }
 ],
 "metadata": {
  "kernelspec": {
   "display_name": "Python 3",
   "language": "python",
   "name": "python3"
  },
  "language_info": {
   "codemirror_mode": {
    "name": "ipython",
    "version": 3
   },
   "file_extension": ".py",
   "mimetype": "text/x-python",
   "name": "python",
   "nbconvert_exporter": "python",
   "pygments_lexer": "ipython3",
   "version": "3.8.5"
  }
 },
 "nbformat": 4,
 "nbformat_minor": 4
}
