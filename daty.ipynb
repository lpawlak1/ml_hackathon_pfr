{
 "cells": [
  {
   "cell_type": "code",
   "execution_count": null,
   "metadata": {},
   "outputs": [],
   "source": [
    "import numpy as np\n",
    "import pandas as pd\n",
    "import matplotlib.pylab as plt\n",
    "import seaborn as sns\n",
    "from datetime import datetime"
   ]
  },
  {
   "cell_type": "code",
   "execution_count": null,
   "metadata": {},
   "outputs": [],
   "source": [
    "df = pd.read_csv(\"data/preprocessed_data\")"
   ]
  },
  {
   "cell_type": "code",
   "execution_count": null,
   "metadata": {},
   "outputs": [],
   "source": [
    "sus = df.loc[df[\"IS_SUSPENDED\"]==1]\n"
   ]
  },
  {
   "cell_type": "code",
   "execution_count": null,
   "metadata": {},
   "outputs": [],
   "source": [
    "sus['RESIGN_DATE'] = pd.to_datetime(sus[\"RESIGN_DATE\"], format=\"%Y-%m-%d\")\n",
    "sus['CREATED_AT'] = pd.to_datetime(sus[\"CREATED_AT\"], format=\"%Y-%m-%d\")\n",
    "\n",
    "sus[\"DURATION\"] = sus['RESIGN_DATE'] - sus['CREATED_AT']\n",
    "\n",
    "sus[\"DURATION\"].apply(lambda x: int(x.days))"
   ]
  },
  {
   "cell_type": "code",
   "execution_count": null,
   "metadata": {},
   "outputs": [],
   "source": [
    "sus['DURATION']\n",
    "sus.drop(columns=['IS_SUSPENDED', 'EMPL_ID', 'SEX', 'NATIONALITY', 'WORK_START',\n",
    "       'WORK_STOP', 'AGE', 'CREATED_AT', 'RESIGN_DATE', 'HAS_AE', 'HAS_AW',\n",
    "       'HAS_IP', 'PPK_STAGE', 'REGION_CODE', 'VOIVODESHIP', 'COMPANY_SIZE',\n",
    "       'COMPANY_TYPE','Unnamed: 0'], inplace=True)\n"
   ]
  },
  {
   "cell_type": "code",
   "execution_count": null,
   "metadata": {},
   "outputs": [],
   "source": [
    "# corr = sus.corr()# plot the heatmap\n",
    "# sns.heatmap(corr, xticklabels=corr.columns,\n",
    "#             yticklabels=corr.columns,annot=True, \n",
    "#             cmap=sns.diverging_palette(220, 20, as_cmap=True))\n",
    "sus"
   ]
  }
 ],
 "metadata": {
  "kernelspec": {
   "display_name": "Python 3",
   "language": "python",
   "name": "python3"
  },
  "language_info": {
   "codemirror_mode": {
    "name": "ipython",
    "version": 3
   },
   "file_extension": ".py",
   "mimetype": "text/x-python",
   "name": "python",
   "nbconvert_exporter": "python",
   "pygments_lexer": "ipython3",
   "version": "3.8.5"
  }
 },
 "nbformat": 4,
 "nbformat_minor": 4
}
