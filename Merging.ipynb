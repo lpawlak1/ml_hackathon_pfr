{
 "cells": [
  {
   "cell_type": "code",
   "execution_count": null,
   "id": "b0ad2020-7ca0-41ff-84d6-0c10ad306941",
   "metadata": {},
   "outputs": [],
   "source": [
    "import pandas as pd\n",
    "# ktos do bazy dodal przecinki zamiast kropek i to jest str wg pythona\n",
    "def float_excel_to_float_python(a):\n",
    "    return float(a.replace(',','.'))"
   ]
  },
  {
   "cell_type": "code",
   "execution_count": null,
   "id": "36e9c920-5f9c-4b56-9840-a4d8c9e2b848",
   "metadata": {},
   "outputs": [],
   "source": [
    "uczestnicy_csv = pd.read_csv(\"PPK_Uczestnicy.csv\",error_bad_lines=False, delimiter=';')"
   ]
  },
  {
   "cell_type": "code",
   "execution_count": null,
   "id": "8379a502-9293-4330-bcb0-3dd5c5080934",
   "metadata": {},
   "outputs": [],
   "source": [
    "pracodawcy_csv = pd.read_csv(\"PPK_Pracodawcy.csv\",sep=';')"
   ]
  },
  {
   "cell_type": "code",
   "execution_count": null,
   "id": "b6298a34-212d-4b5f-af2b-f80b8efebe55",
   "metadata": {},
   "outputs": [],
   "source": [
    "merged = pd.merge(\n",
    "    uczestnicy_csv,\n",
    "    pracodawcy_csv,\n",
    "    how='left',\n",
    "    left_on='EMPL_ID',\n",
    "    right_on='ID'\n",
    ")\n",
    "merged['AGE'] = merged['AGE'].apply(float_excel_to_float_python)"
   ]
  },
  {
   "cell_type": "code",
   "execution_count": null,
   "id": "2e903189-46ab-4219-999f-b44946dfb575",
   "metadata": {},
   "outputs": [],
   "source": [
    "merged.drop(columns=[\"MEMBER_ID\",\"LOGICAL_FACTOR_1\",\"LOGICAL_FACTOR_2\",\"ID\",\"PKD_CODE\",\"PPK_BANK\",\"NUMERICAL_VALUE\"],inplace=True)\n",
    "merged"
   ]
  }
 ],
 "metadata": {
  "kernelspec": {
   "display_name": "Python 3",
   "language": "python",
   "name": "python3"
  },
  "language_info": {
   "codemirror_mode": {
    "name": "ipython",
    "version": 3
   },
   "file_extension": ".py",
   "mimetype": "text/x-python",
   "name": "python",
   "nbconvert_exporter": "python",
   "pygments_lexer": "ipython3",
   "version": "3.9.5"
  }
 },
 "nbformat": 4,
 "nbformat_minor": 5
}
